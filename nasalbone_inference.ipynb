{
 "cells": [
  {
   "cell_type": "code",
   "execution_count": 1,
   "id": "962768a8",
   "metadata": {},
   "outputs": [
    {
     "name": "stdout",
     "output_type": "stream",
     "text": [
      "MONAI version: 0.9.1\n",
      "Numpy version: 1.20.3\n",
      "Pytorch version: 1.11.0\n",
      "MONAI flags: HAS_EXT = False, USE_COMPILED = False, USE_META_DICT = False\n",
      "MONAI rev id: 356d2d2f41b473f588899d705bbc682308cee52c\n",
      "MONAI __file__: /home/yoonhonam/miniconda3/envs/torch/lib/python3.9/site-packages/monai/__init__.py\n",
      "\n",
      "Optional dependencies:\n",
      "Pytorch Ignite version: 0.4.8\n",
      "Nibabel version: 3.2.1\n",
      "scikit-image version: 0.19.2\n",
      "Pillow version: 8.4.0\n",
      "Tensorboard version: 2.10.0a20220721\n",
      "gdown version: 4.2.0\n",
      "TorchVision version: 0.12.0\n",
      "tqdm version: 4.61.2\n",
      "lmdb version: 1.3.0\n",
      "psutil version: 5.8.0\n",
      "pandas version: 1.4.2\n",
      "einops version: 0.4.0\n",
      "transformers version: 4.15.0\n",
      "mlflow version: 1.23.1\n",
      "pynrrd version: NOT INSTALLED or UNKNOWN VERSION.\n",
      "\n",
      "For details about installing the optional dependencies, please visit:\n",
      "    https://docs.monai.io/en/latest/installation.html#installing-the-recommended-dependencies\n",
      "\n"
     ]
    }
   ],
   "source": [
    "import os\n",
    "import numpy as np\n",
    "import torch \n",
    "import matplotlib.pyplot as plt\n",
    "\n",
    "import torchvision.models as models\n",
    "import torch.nn as nn\n",
    "\n",
    "from pytorch_grad_cam import GradCAM\n",
    "from pytorch_grad_cam.utils.model_targets import ClassifierOutputTarget\n",
    "from pytorch_grad_cam.utils.image import show_cam_on_image\n",
    "\n",
    "from PIL import Image\n",
    "import tempfile\n",
    "from monai.data import PILReader\n",
    "from monai.transforms import (\n",
    "    LoadImage, LoadImaged, EnsureChannelFirstd,\n",
    "    Resized, EnsureTyped, Compose,  \n",
    "    ToTensord,\n",
    "    ScaleIntensityd,\n",
    "    CenterSpatialCropd,\n",
    ")\n",
    "from monai.config import print_config\n",
    "device = torch.device(\"cuda:0\")\n",
    "print_config()"
   ]
  },
  {
   "cell_type": "markdown",
   "id": "24ae777c",
   "metadata": {},
   "source": [
    "### Define model and load pretrained parameters"
   ]
  },
  {
   "cell_type": "code",
   "execution_count": 3,
   "id": "d81f8195",
   "metadata": {},
   "outputs": [],
   "source": [
    "# transforms for inference\n",
    "test_transforms = Compose(\n",
    "    [\n",
    "        LoadImaged(keys=[\"image1\",\"image2\"]),\n",
    "        EnsureChannelFirstd(keys=[\"image1\",\"image2\"]),\n",
    "        EnsureTyped(keys=[\"image1\",\"image2\"]),\n",
    "        ScaleIntensityd(keys=[\"image1\",\"image2\"],minv=0.0, maxv=1.0),\n",
    "        Resized(\n",
    "            keys=[\"image1\",\"image2\"],\n",
    "            spatial_size=(512,512),\n",
    "\n",
    "        ),\n",
    "        CenterSpatialCropd(keys=[\"image1\",\"image2\"],\n",
    "                         roi_size=(448,448), \n",
    "                        ),          \n",
    "        ToTensord(keys=[\"image1\", \"image2\"]),\n",
    "    ]\n",
    ")"
   ]
  },
  {
   "cell_type": "code",
   "execution_count": 2,
   "id": "e5cb45c2",
   "metadata": {},
   "outputs": [],
   "source": [
    "# dual-path cnn model based on EfficientNet-b7\n",
    "class Identity(nn.Module):\n",
    "    def __init__(self):\n",
    "        super(Identity, self).__init__()\n",
    "        \n",
    "    def forward(self, x):\n",
    "        return x\n",
    "    \n",
    "class Eff2_b7(torch.nn.Module):\n",
    "    def __init__(self):\n",
    "        super().__init__()\n",
    "        self.a = models.efficientnet_b7(pretrained=True)\n",
    "        self.b = models.efficientnet_b7(pretrained=True)\n",
    "        self.a.features[0][0] = torch.nn.Conv2d(1, 64, kernel_size=(3, 3), stride=(2, 2), padding=(1, 1), bias=False)\n",
    "        self.b.features[0][0] = torch.nn.Conv2d(1, 64, kernel_size=(3, 3), stride=(2, 2), padding=(1, 1), bias=False)\n",
    "        self.a.classifier[1] = Identity()\n",
    "        self.b.classifier[1] = Identity()\n",
    "        self.c = nn.Sequential(\n",
    "            torch.nn.Dropout(p=0.3),\n",
    "            torch.nn.Linear(5120,2560),\n",
    "            torch.nn.GELU(),\n",
    "            torch.nn.Dropout(p=0.3),\n",
    "            torch.nn.Linear(2560,1280),\n",
    "            torch.nn.GELU(),\n",
    "            torch.nn.Dropout(p=0.3),\n",
    "            torch.nn.Linear(1280,2),\n",
    "        )\n",
    "    def forward(self, x):\n",
    "        y = torch.cat((self.a(x[:,:1,:,:]),self.b(x[:,-1:,:,:])),dim=1)\n",
    "        y = self.c(y)\n",
    "        return y\n",
    "    \n",
    "model = Eff2_b7()\n",
    "model.to(device)\n",
    "model.load_state_dict(torch.load('model/nf_eff2_b7_v001.pth'))    "
   ]
  },
  {
   "cell_type": "code",
   "execution_count": 4,
   "id": "d18fdced",
   "metadata": {},
   "outputs": [],
   "source": [
    "cutoff = 0.5\n",
    "target_layers = [model.a.features[-1]]\n",
    "cam1 = GradCAM(model=model, target_layers=target_layers)\n",
    "target_layers = [model.b.features[-1]]\n",
    "cam2 = GradCAM(model=model, target_layers=target_layers)"
   ]
  },
  {
   "cell_type": "markdown",
   "id": "f52c226b",
   "metadata": {},
   "source": [
    "### Load x-ray images"
   ]
  },
  {
   "cell_type": "code",
   "execution_count": 15,
   "id": "a8d7f794",
   "metadata": {},
   "outputs": [
    {
     "data": {
      "image/png": "[encoded data removed]",
      "text/plain": [
       "<Figure size 216x144 with 2 Axes>"
      ]
     },
     "metadata": {
      "needs_background": "light"
     },
     "output_type": "display_data"
    }
   ],
   "source": [
    "test_Data =[\n",
    "    {\n",
    "        \"image1\": 'image/01.png',\n",
    "        \"image2\": 'image/02.png'    \n",
    "    }\n",
    "]\n",
    "img = test_transforms(test_Data[0])\n",
    "plt.figure(1,figsize=(3,2))\n",
    "plt.subplot(121)\n",
    "plt.imshow(np.transpose(img['image1'][0],(1,0)),cmap='gray')\n",
    "plt.axis('off')\n",
    "plt.subplot(122)\n",
    "plt.imshow(np.transpose(img['image2'][0],(1,0)),cmap='gray')\n",
    "plt.axis('off')\n",
    "plt.show()"
   ]
  },
  {
   "cell_type": "markdown",
   "id": "984ea875",
   "metadata": {},
   "source": [
    "### Test and visualize"
   ]
  },
  {
   "cell_type": "code",
   "execution_count": 17,
   "id": "2a5e4f05",
   "metadata": {},
   "outputs": [
    {
     "name": "stdout",
     "output_type": "stream",
     "text": [
      "prediction: fracture , score: 0.9999975\n"
     ]
    },
    {
     "data": {
      "image/png": "[encoded data removed]",
      "text/plain": [
       "<Figure size 216x144 with 4 Axes>"
      ]
     },
     "metadata": {
      "needs_background": "light"
     },
     "output_type": "display_data"
    }
   ],
   "source": [
    "x1 = img['image1'].unsqueeze(0)\n",
    "x2 = img['image2'].unsqueeze(0)\n",
    "out1 = model(torch.cat((x1,x2),dim=1).to(device))\n",
    "out2 = model(torch.cat((x2,x1),dim=1).to(device))\n",
    "outp = (out1+out2).softmax(1)[:,1].cpu().detach().numpy()\n",
    "\n",
    "if outp>cutoff:\n",
    "    pred = 'fracture'\n",
    "    targets = [ClassifierOutputTarget(1)]    \n",
    "else:\n",
    "    pred = 'normal'\n",
    "    targets = [ClassifierOutputTarget(0)]    \n",
    "    \n",
    "print('prediction:',pred, ', score:',outp[0])\n",
    "\n",
    "gcam1 = cam1(input_tensor=torch.cat((x1,x2),dim=1).to(device), targets=targets)\n",
    "gcam2 = cam2(input_tensor=torch.cat((x2,x1),dim=1).to(device), targets=targets)\n",
    "x = x1\n",
    "x = torch.cat((x,x,x),dim=1)[0]\n",
    "x = np.transpose(x.numpy(),(1,2,0))        \n",
    "vz = show_cam_on_image(x, 1-(0.5*(gcam1[0]+gcam2[0])))\n",
    "\n",
    "plt.figure(1,figsize=(3,2))\n",
    "plt.subplot(141)\n",
    "plt.imshow(np.transpose(x,(1,0,2)))\n",
    "plt.axis('off')\n",
    "plt.title('view 1')\n",
    "\n",
    "plt.subplot(142)\n",
    "plt.imshow(np.transpose(vz,(1,0,2)))\n",
    "plt.axis('off')\n",
    "\n",
    "gcam1 = cam2(input_tensor=torch.cat((x1,x2),dim=1).to(device), targets=targets)  \n",
    "gcam2 = cam1(input_tensor=torch.cat((x2,x1),dim=1).to(device), targets=targets)    \n",
    "x = x2\n",
    "x = torch.cat((x,x,x),dim=1)[0]\n",
    "x = np.transpose(x.numpy(),(1,2,0))        \n",
    "vz = show_cam_on_image(x, 1-(0.5*(gcam1[0]+gcam2[0])))\n",
    "\n",
    "plt.subplot(143)\n",
    "plt.imshow(np.transpose(x,(1,0,2)))\n",
    "plt.axis('off')\n",
    "plt.title('view 2')\n",
    "\n",
    "plt.subplot(144)\n",
    "plt.imshow(np.transpose(vz,(1,0,2)))\n",
    "plt.axis('off')   \n",
    "\n",
    "plt.tight_layout()\n",
    "plt.show()"
   ]
  },
  {
   "cell_type": "code",
   "execution_count": null,
   "id": "c08c39e5",
   "metadata": {},
   "outputs": [],
   "source": []
  }
 ],
 "metadata": {
  "kernelspec": {
   "display_name": "Python 3 (ipykernel)",
   "language": "python",
   "name": "python3"
  },
  "language_info": {
   "codemirror_mode": {
    "name": "ipython",
    "version": 3
   },
   "file_extension": ".py",
   "mimetype": "text/x-python",
   "name": "python",
   "nbconvert_exporter": "python",
   "pygments_lexer": "ipython3",
   "version": "3.9.5"
  }
 },
 "nbformat": 4,
 "nbformat_minor": 5
}
